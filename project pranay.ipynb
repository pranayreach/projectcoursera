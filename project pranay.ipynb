{
 "cells": [
  {
   "cell_type": "markdown",
   "id": "75db60c1-4d73-4765-944e-ab5a8375002f",
   "metadata": {},
   "source": [
    "# My jupyter notebook in IBM WATSON STUDIO\n"
   ]
  },
  {
   "cell_type": "markdown",
   "id": "08621bb0-65d0-42f9-ac86-ddf731c840f4",
   "metadata": {},
   "source": [
    "**PRANAY REDDY AUSTUM**\n",
    "Fincaial data analyst\n"
   ]
  },
  {
   "cell_type": "markdown",
   "id": "02754dd0-f9fb-46ab-8fb2-7266520e60c8",
   "metadata": {},
   "source": [
    "*I am interested in data science as having an strong intrusion towards analytical mindset and would believe domain knowledge combined with data science can make an significant improvement towards organizations objectives and added competitive advantage* \n"
   ]
  },
  {
   "cell_type": "markdown",
   "id": "b9fbb34e-28f4-4a88-b342-1448fb034d63",
   "metadata": {},
   "source": [
    "###This program adds two numbers"
   ]
  },
  {
   "cell_type": "code",
   "execution_count": 10,
   "id": "9e839f69-88e5-4155-9b94-8481018362b5",
   "metadata": {},
   "outputs": [
    {
     "name": "stdout",
     "output_type": "stream",
     "text": [
      "The sum of 7.7 and 4 is 11.7\n"
     ]
    }
   ],
   "source": [
    "num1 = 7.7\n",
    "num2 = 4\n",
    "sum = num1 + num2\n",
    "print('The sum of {0} and {1} is {2}'.format(num1,num2,sum)) \n"
   ]
  },
  {
   "cell_type": "markdown",
   "id": "617130d0-6ab1-4e6c-bade-c4532b8930ee",
   "metadata": {},
   "source": [
    "The above sum is addition\n",
    "1.input\n",
    "2.code\n",
    "3.output in the form of addition\n",
    "#Addition"
   ]
  },
  {
   "cell_type": "code",
   "execution_count": null,
   "id": "49dd8640-2738-44fc-aeb3-1d3ed00e8a84",
   "metadata": {},
   "outputs": [],
   "source": []
  }
 ],
 "metadata": {
  "kernelspec": {
   "display_name": "Python",
   "language": "python",
   "name": "conda-env-python-py"
  },
  "language_info": {
   "codemirror_mode": {
    "name": "ipython",
    "version": 3
   },
   "file_extension": ".py",
   "mimetype": "text/x-python",
   "name": "python",
   "nbconvert_exporter": "python",
   "pygments_lexer": "ipython3",
   "version": "3.7.12"
  }
 },
 "nbformat": 4,
 "nbformat_minor": 5
}
